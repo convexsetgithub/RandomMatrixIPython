{
 "cells": [
  {
   "cell_type": "markdown",
   "metadata": {},
   "source": [
    "# Count Sketch\n",
    "\n",
    "**Shusen Wang**,\n",
    "wssatzju@gmail.com\n",
    "\n",
    "Count sketch stems from the streaming literature in the theoretical computer science society, and it has been a popular matrix sketching method since the following paper.\n",
    "> Kenneth L. Clarkson and David P. Woodruff. Low rank approximation and regression in input sparsity time. In *STOC*, 2013.\n",
    "\n",
    "The beauty of the count sketch is that given ${\\bf A}\\in \\mathbb{R}^{m\\times n}$, a sketch of any size can be formed in $O( \\textrm{nnz} ({\\bf A}) )$ time, where $\\textrm{nnz} ({\\bf A})$ denotes the number of non-zero entries in ${\\bf A}$.\n",
    "\n",
    "In this article we provide intuitive descriptions of the count sketch and three ways of implentation."
   ]
  },
  {
   "cell_type": "markdown",
   "metadata": {},
   "source": [
    "## 1. Preparations\n",
    "\n",
    "We first prepare the data for our experiments. Let us load a matrix from the file '../data/letters.txt', which has $15,000$ samples and $16$ features. "
   ]
  },
  {
   "cell_type": "code",
   "execution_count": 1,
   "metadata": {
    "collapsed": false
   },
   "outputs": [
    {
     "name": "stdout",
     "output_type": "stream",
     "text": [
      "The matrix A has  16  rows and  15000  columns.\n"
     ]
    }
   ],
   "source": [
    "# prepare data\n",
    "import numpy as np\n",
    "\n",
    "# load matrix A from file\n",
    "filepath = '../data/letters.txt'\n",
    "matrixA = np.loadtxt(filepath).T\n",
    "print('The matrix A has ', matrixA.shape[0], ' rows and ', matrixA.shape[1], ' columns.')"
   ]
  },
  {
   "cell_type": "markdown",
   "metadata": {},
   "source": [
    "## 2. Algorithm Description\n",
    "\n",
    "Suppose we are given any fixed matrix ${\\bf A} \\in \\mathbb{R}^{m\\times n}$ and the size of sketch $s$. We first hash each column with a discrete value which is uniformly sampled from $\\{1, \\cdots , s\\}$, then flip the sign of each column with probability 50%, and finally sum up the columns with the same hash value. The result is an $m\\times s$ matrix ${\\bf C} = {\\bf AS}$. \n",
    "\n",
    "The image below illustrates the procedure of count sketch. In this example, we set $m=4$, $n=16$, $s=3$. The integers in the above are sampled from $\\{1, 2, 3\\}$, and the numbers in the below are the random signs.\n",
    "\n",
    "![](./countsketch.gif)\n",
    "\n"
   ]
  },
  {
   "cell_type": "markdown",
   "metadata": {},
   "source": [
    "\n",
    "The matrix ${\\bf S} \\in \\mathbb{R}^{n\\times s}$ has exactly one nonzero entry in each row, and the entry can be either $+1$ or $-1$.In the above example, the sketching matrix ${\\bf S}$ can be explicitly written as\n",
    "\n",
    "![](./countsketchS.png)\n"
   ]
  },
  {
   "cell_type": "markdown",
   "metadata": {
    "collapsed": true
   },
   "source": [
    "## 3. In Memory Implementation\n",
    "\n",
    "If the matrix ${\\bf A}$ fits in memory, the above procedure can be straightforward implemented in a few lines of code. As we know, the loops in Python is slow, so this kind of implementation has the advantage of very few loops.\n",
    "\n"
   ]
  },
  {
   "cell_type": "code",
   "execution_count": 2,
   "metadata": {
    "collapsed": false
   },
   "outputs": [],
   "source": [
    "def countSketchInMemroy(matrixA, s):\n",
    "    m, n = matrixA.shape\n",
    "    matrixC = np.zeros([m, s])\n",
    "    hashedIndices = np.random.choice(s, n, replace=True)\n",
    "    randSigns = np.random.choice(2, n, replace=True) * 2 - 1 # a n-by-1{+1, -1} vector\n",
    "    matrixA = matrixA * randSigns.reshape(1, n) # flip the signs of 50% columns of A\n",
    "    for i in range(s):\n",
    "        idx = (hashedIndices == i)\n",
    "        matrixC[:, i] = np.sum(matrixA[:, idx], 1)\n",
    "    return matrixC\n",
    "\n",
    "s = 50 # sketch size, can be tuned\n",
    "matrixC = countSketchInMemroy(matrixA, 50)"
   ]
  },
  {
   "cell_type": "markdown",
   "metadata": {},
   "source": [
    "Let us test the quality of sketching. It is well known that the count sketch preserves the geometry of vectors. If the count sketch is implemented correctly, then for all $i = 1$ to $m$, $\\|{\\bf c}_{i:}\\|$ should be close to $\\|{\\bf a}_{i:}\\|$, and the closeness increase with $s$."
   ]
  },
  {
   "cell_type": "code",
   "execution_count": 3,
   "metadata": {
    "collapsed": false
   },
   "outputs": [
    {
     "name": "stdout",
     "output_type": "stream",
     "text": [
      "[ 63.60807091  54.69072952  50.89632119  50.72067591  74.37944729\n",
      "  34.37880845  38.08388793  64.49640718  54.54457886  42.51472918\n",
      "  46.20918599  34.60456254  81.9667125   28.8462628   75.16027597\n",
      "  35.91644967]\n",
      "[ 54.63783374  65.7398332   45.71855403  46.32945819  68.89850535\n",
      "  34.61946062  38.68436532  53.36949871  41.49945575  47.7305346\n",
      "  43.61590488  33.04596645  82.13917474  29.27328076  61.81995832\n",
      "  37.85797913]\n"
     ]
    }
   ],
   "source": [
    "# Test\n",
    "# compare the l2 norm of each row of A and C\n",
    "rowNormsA = np.sqrt(np.sum(np.square(matrixA), 1))\n",
    "print(rowNormsA)\n",
    "rowNormsC = np.sqrt(np.sum(np.square(matrixC), 1))\n",
    "print(rowNormsC)"
   ]
  },
  {
   "cell_type": "markdown",
   "metadata": {},
   "source": [
    "## 4. Streaming Implementation\n",
    "\n",
    "The matrix ${\\bf A}$ is normally too large to fit in memory, but the sketch ${\\bf C}$ can fit in memory. In such situation, we can read ${\\bf A}$ in a streaming fashion, that is, keep only one column of ${\\bf A}$ in memory at a time. The algorithm can be described as follows.\n",
    "\n",
    "1. Initialize ${\\bf C}$ to be $m\\times s$ all-zeros matrix;\n",
    "2. For $j = 1$ to $n$:\n",
    "    1. read ${\\bf a}_{:j}$ to memory;\n",
    "    2. uniformly sample $h$ from $\\{1, \\cdots , s\\}$;\n",
    "    3. uniformly sample $g$ from $\\{+1, -1\\}$;\n",
    "    4. add $g \\cdot {\\bf a}_{:j}$ to the $h$-th column of ${\\bf C}$.\n",
    "    \n",
    "We implement the algorithm in the following. To make the code readable, we avoid the file I/O operations. If ${\\bf A}$ does not fit in memory, one can simply replace the 7th line \"a = matrixA[:, j]\" by the file operation \"[readline()](https://docs.python.org/2/tutorial/inputoutput.html)\" followed by parsing."
   ]
  },
  {
   "cell_type": "code",
   "execution_count": 4,
   "metadata": {
    "collapsed": false
   },
   "outputs": [],
   "source": [
    "def countSketchStreaming(matrixA, s):\n",
    "    m, n = matrixA.shape\n",
    "    matrixC = np.zeros([m, s])\n",
    "    hashedIndices = np.random.choice(s, n, replace=True)\n",
    "    randSigns = np.random.choice(2, n, replace=True) * 2 - 1 \n",
    "    for j in range(n):\n",
    "        a = matrixA[:, j]\n",
    "        h = hashedIndices[j]\n",
    "        g = randSigns[j]\n",
    "        matrixC[:, h] += g * a\n",
    "    return matrixC\n",
    "\n",
    "s = 50 # sketch size, can be tuned\n",
    "matrixC = countSketchStreaming(matrixA, s)"
   ]
  },
  {
   "cell_type": "code",
   "execution_count": 5,
   "metadata": {
    "collapsed": false
   },
   "outputs": [
    {
     "name": "stdout",
     "output_type": "stream",
     "text": [
      "[ 63.60807091  54.69072952  50.89632119  50.72067591  74.37944729\n",
      "  34.37880845  38.08388793  64.49640718  54.54457886  42.51472918\n",
      "  46.20918599  34.60456254  81.9667125   28.8462628   75.16027597\n",
      "  35.91644967]\n",
      "[ 54.99062777  55.29420838  45.09357698  48.01879909  55.15658743\n",
      "  29.87901851  39.45484264  57.01656579  47.45589914  36.23884598\n",
      "  45.26671373  35.68417798  61.27758565  23.02365895  56.33952527\n",
      "  37.20778245]\n"
     ]
    }
   ],
   "source": [
    "# Test\n",
    "# compare the l2 norm of each row of A and C\n",
    "rowNormsA = np.sqrt(np.sum(np.square(matrixA), 1))\n",
    "print(rowNormsA)\n",
    "rowNormsC = np.sqrt(np.sum(np.square(matrixC), 1))\n",
    "print(rowNormsC)"
   ]
  },
  {
   "cell_type": "markdown",
   "metadata": {},
   "source": [
    "## 5. Map-Reduce Implementation\n",
    "\n",
    "The map-reduce implementation is essentially the same to the in-memory implementation. As the name suggests, it suits the map-reduce programming.\n",
    "- **Mapper**\n",
    "    - Take a column of ${\\bf A}$ as input and flip its sign with probability $50\\%$;\n",
    "    - Sample an integer from $\\{1, \\cdots , s\\}$; \n",
    "    - Emit the key-value pair, where the key is the integer and the value is the input column with potentially flipped sign.\n",
    "- **Reducer** \n",
    "    - Reduce the key-value pairs by key and perform summation over the values (the vectors).\n",
    "    \n",
    "**Remark.** The communication cost is merely $O(ms)$ rather than $O(mn)$ for the following reason. The \"reduceByKey()\" operation first sums the vectors with the same key locally on each worker. Therefore, before the communication, each worker holds at most $s$ vectors.\n",
    "\n",
    "The following implements the count sketch in Spark and has been tested."
   ]
  },
  {
   "cell_type": "code",
   "execution_count": null,
   "metadata": {
    "collapsed": true
   },
   "outputs": [],
   "source": [
    "def countSketchMapReduce(filepath, s):\n",
    "    # load data\n",
    "    rawRDD = sc.textFile(filepath)\n",
    "    # parse string data to vectors\n",
    "    vectorRDD = rawRDD.map(lambda l: np.asfarray(l.split()))\n",
    "    # map the vectors to key-value pairs\n",
    "    pairRDD = vectorRDD.map(lambda vect: (np.random.randint(0, s), (np.random.randint(0, 2) * 2 - 1) * vect ))\n",
    "    # reducer\n",
    "    vectList = pairRDD.reduceByKey(lambda v1, v2: v1+v2).map(lambda pair: pair[1]).collect()\n",
    "    return np.asarray(vectList).T\n",
    "\n",
    "s = 50 # sketch size, can be tuned\n",
    "filepath = './data/letters.txt'\n",
    "matrixC = countSketchMapReduce(filepath, s)"
   ]
  },
  {
   "cell_type": "code",
   "execution_count": null,
   "metadata": {
    "collapsed": true
   },
   "outputs": [],
   "source": []
  }
 ],
 "metadata": {
  "kernelspec": {
   "display_name": "Python 3",
   "language": "python",
   "name": "python3"
  },
  "language_info": {
   "codemirror_mode": {
    "name": "ipython",
    "version": 3
   },
   "file_extension": ".py",
   "mimetype": "text/x-python",
   "name": "python",
   "nbconvert_exporter": "python",
   "pygments_lexer": "ipython3",
   "version": "3.4.3"
  }
 },
 "nbformat": 4,
 "nbformat_minor": 0
}
